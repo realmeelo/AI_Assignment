{
  "cells": [
    {
      "cell_type": "markdown",
      "metadata": {
        "id": "view-in-github",
        "colab_type": "text"
      },
      "source": [
        "<a href=\"https://colab.research.google.com/github/realmeelo/AI_Assignment/blob/main/Capstone_Project_1.ipynb\" target=\"_parent\"><img src=\"https://colab.research.google.com/assets/colab-badge.svg\" alt=\"Open In Colab\"/></a>"
      ]
    },
    {
      "cell_type": "code",
      "source": [
        "#@title Install Libraries\n",
        "!pip install tensorflow opencv-python scikit-learn tf2onnx onnx pillow"
      ],
      "metadata": {
        "colab": {
          "base_uri": "https://localhost:8080/"
        },
        "id": "79hRGoNpBZEl",
        "outputId": "b37371a5-c647-4508-fe41-3a0366342ac6"
      },
      "execution_count": 1,
      "outputs": [
        {
          "output_type": "stream",
          "name": "stdout",
          "text": [
            "Requirement already satisfied: tensorflow in /usr/local/lib/python3.12/dist-packages (2.19.0)\n",
            "Requirement already satisfied: opencv-python in /usr/local/lib/python3.12/dist-packages (4.12.0.88)\n",
            "Requirement already satisfied: scikit-learn in /usr/local/lib/python3.12/dist-packages (1.6.1)\n",
            "Requirement already satisfied: tf2onnx in /usr/local/lib/python3.12/dist-packages (1.16.1)\n",
            "Requirement already satisfied: onnx in /usr/local/lib/python3.12/dist-packages (1.17.0)\n",
            "Requirement already satisfied: pillow in /usr/local/lib/python3.12/dist-packages (11.3.0)\n",
            "Requirement already satisfied: absl-py>=1.0.0 in /usr/local/lib/python3.12/dist-packages (from tensorflow) (1.4.0)\n",
            "Requirement already satisfied: astunparse>=1.6.0 in /usr/local/lib/python3.12/dist-packages (from tensorflow) (1.6.3)\n",
            "Requirement already satisfied: flatbuffers>=24.3.25 in /usr/local/lib/python3.12/dist-packages (from tensorflow) (25.9.23)\n",
            "Requirement already satisfied: gast!=0.5.0,!=0.5.1,!=0.5.2,>=0.2.1 in /usr/local/lib/python3.12/dist-packages (from tensorflow) (0.6.0)\n",
            "Requirement already satisfied: google-pasta>=0.1.1 in /usr/local/lib/python3.12/dist-packages (from tensorflow) (0.2.0)\n",
            "Requirement already satisfied: libclang>=13.0.0 in /usr/local/lib/python3.12/dist-packages (from tensorflow) (18.1.1)\n",
            "Requirement already satisfied: opt-einsum>=2.3.2 in /usr/local/lib/python3.12/dist-packages (from tensorflow) (3.4.0)\n",
            "Requirement already satisfied: packaging in /usr/local/lib/python3.12/dist-packages (from tensorflow) (25.0)\n",
            "Requirement already satisfied: protobuf!=4.21.0,!=4.21.1,!=4.21.2,!=4.21.3,!=4.21.4,!=4.21.5,<6.0.0dev,>=3.20.3 in /usr/local/lib/python3.12/dist-packages (from tensorflow) (3.20.3)\n",
            "Requirement already satisfied: requests<3,>=2.21.0 in /usr/local/lib/python3.12/dist-packages (from tensorflow) (2.32.4)\n",
            "Requirement already satisfied: setuptools in /usr/local/lib/python3.12/dist-packages (from tensorflow) (75.2.0)\n",
            "Requirement already satisfied: six>=1.12.0 in /usr/local/lib/python3.12/dist-packages (from tensorflow) (1.17.0)\n",
            "Requirement already satisfied: termcolor>=1.1.0 in /usr/local/lib/python3.12/dist-packages (from tensorflow) (3.2.0)\n",
            "Requirement already satisfied: typing-extensions>=3.6.6 in /usr/local/lib/python3.12/dist-packages (from tensorflow) (4.15.0)\n",
            "Requirement already satisfied: wrapt>=1.11.0 in /usr/local/lib/python3.12/dist-packages (from tensorflow) (2.0.0)\n",
            "Requirement already satisfied: grpcio<2.0,>=1.24.3 in /usr/local/lib/python3.12/dist-packages (from tensorflow) (1.76.0)\n",
            "Requirement already satisfied: tensorboard~=2.19.0 in /usr/local/lib/python3.12/dist-packages (from tensorflow) (2.19.0)\n",
            "Requirement already satisfied: keras>=3.5.0 in /usr/local/lib/python3.12/dist-packages (from tensorflow) (3.10.0)\n",
            "Requirement already satisfied: numpy<2.2.0,>=1.26.0 in /usr/local/lib/python3.12/dist-packages (from tensorflow) (2.0.2)\n",
            "Requirement already satisfied: h5py>=3.11.0 in /usr/local/lib/python3.12/dist-packages (from tensorflow) (3.15.1)\n",
            "Requirement already satisfied: ml-dtypes<1.0.0,>=0.5.1 in /usr/local/lib/python3.12/dist-packages (from tensorflow) (0.5.3)\n",
            "Requirement already satisfied: scipy>=1.6.0 in /usr/local/lib/python3.12/dist-packages (from scikit-learn) (1.16.3)\n",
            "Requirement already satisfied: joblib>=1.2.0 in /usr/local/lib/python3.12/dist-packages (from scikit-learn) (1.5.2)\n",
            "Requirement already satisfied: threadpoolctl>=3.1.0 in /usr/local/lib/python3.12/dist-packages (from scikit-learn) (3.6.0)\n",
            "Requirement already satisfied: wheel<1.0,>=0.23.0 in /usr/local/lib/python3.12/dist-packages (from astunparse>=1.6.0->tensorflow) (0.45.1)\n",
            "Requirement already satisfied: rich in /usr/local/lib/python3.12/dist-packages (from keras>=3.5.0->tensorflow) (13.9.4)\n",
            "Requirement already satisfied: namex in /usr/local/lib/python3.12/dist-packages (from keras>=3.5.0->tensorflow) (0.1.0)\n",
            "Requirement already satisfied: optree in /usr/local/lib/python3.12/dist-packages (from keras>=3.5.0->tensorflow) (0.17.0)\n",
            "Requirement already satisfied: charset_normalizer<4,>=2 in /usr/local/lib/python3.12/dist-packages (from requests<3,>=2.21.0->tensorflow) (3.4.4)\n",
            "Requirement already satisfied: idna<4,>=2.5 in /usr/local/lib/python3.12/dist-packages (from requests<3,>=2.21.0->tensorflow) (3.11)\n",
            "Requirement already satisfied: urllib3<3,>=1.21.1 in /usr/local/lib/python3.12/dist-packages (from requests<3,>=2.21.0->tensorflow) (2.5.0)\n",
            "Requirement already satisfied: certifi>=2017.4.17 in /usr/local/lib/python3.12/dist-packages (from requests<3,>=2.21.0->tensorflow) (2025.10.5)\n",
            "Requirement already satisfied: markdown>=2.6.8 in /usr/local/lib/python3.12/dist-packages (from tensorboard~=2.19.0->tensorflow) (3.9)\n",
            "Requirement already satisfied: tensorboard-data-server<0.8.0,>=0.7.0 in /usr/local/lib/python3.12/dist-packages (from tensorboard~=2.19.0->tensorflow) (0.7.2)\n",
            "Requirement already satisfied: werkzeug>=1.0.1 in /usr/local/lib/python3.12/dist-packages (from tensorboard~=2.19.0->tensorflow) (3.1.3)\n",
            "Requirement already satisfied: MarkupSafe>=2.1.1 in /usr/local/lib/python3.12/dist-packages (from werkzeug>=1.0.1->tensorboard~=2.19.0->tensorflow) (3.0.3)\n",
            "Requirement already satisfied: markdown-it-py>=2.2.0 in /usr/local/lib/python3.12/dist-packages (from rich->keras>=3.5.0->tensorflow) (4.0.0)\n",
            "Requirement already satisfied: pygments<3.0.0,>=2.13.0 in /usr/local/lib/python3.12/dist-packages (from rich->keras>=3.5.0->tensorflow) (2.19.2)\n",
            "Requirement already satisfied: mdurl~=0.1 in /usr/local/lib/python3.12/dist-packages (from markdown-it-py>=2.2.0->rich->keras>=3.5.0->tensorflow) (0.1.2)\n"
          ]
        }
      ]
    },
    {
      "cell_type": "code",
      "source": [
        "#@title Import Libraries\n",
        "import numpy as np\n",
        "import cv2\n",
        "import os\n",
        "from sklearn.model_selection import train_test_split\n",
        "from sklearn.metrics import accuracy_score, precision_score, recall_score, f1_score, confusion_matrix, classification_report\n",
        "import tensorflow as tf\n",
        "from tensorflow import keras\n",
        "from tensorflow.keras import layers\n",
        "import matplotlib.pyplot as plt\n",
        "import seaborn as sns\n",
        "import tf2onnx\n",
        "import onnx\n"
      ],
      "metadata": {
        "id": "tJKPSKGwEPpW"
      },
      "execution_count": 2,
      "outputs": []
    },
    {
      "cell_type": "code",
      "source": [
        "#@title Set random seeds for reproducibility\n",
        "np.random.seed(42)\n",
        "tf.random.set_seed(42)\n",
        "\n",
        "print(\"=\"*60)\n",
        "print(\"FALL ARMYWORM DETECTION - AI MODEL TRAINING\")\n",
        "print(\"=\"*60)\n"
      ],
      "metadata": {
        "colab": {
          "base_uri": "https://localhost:8080/"
        },
        "id": "u7n2K36tFgco",
        "outputId": "e222c9db-117f-4995-fea1-40deed755dfe"
      },
      "execution_count": 3,
      "outputs": [
        {
          "output_type": "stream",
          "name": "stdout",
          "text": [
            "============================================================\n",
            "FALL ARMYWORM DETECTION - AI MODEL TRAINING\n",
            "============================================================\n"
          ]
        }
      ]
    },
    {
      "cell_type": "code",
      "source": [
        "#@title Clone Dataset Repository\n",
        "!git clone https://github.com/obasekore/Spodopera_DL_dataset.git /content/Spodopera_DL_dataset"
      ],
      "metadata": {
        "colab": {
          "base_uri": "https://localhost:8080/"
        },
        "id": "3HMcit1tKREy",
        "outputId": "06cb84f6-f31f-4bfe-b755-1ef04b0163de"
      },
      "execution_count": 4,
      "outputs": [
        {
          "output_type": "stream",
          "name": "stdout",
          "text": [
            "fatal: destination path '/content/Spodopera_DL_dataset' already exists and is not an empty directory.\n"
          ]
        }
      ]
    },
    {
      "cell_type": "code",
      "source": [
        "#@title Configuration\n",
        "DATA_PATH = '/content/Spodopera_DL_dataset'  #Change this to your dataset path\n",
        "IMG_SIZE = (224, 224)\n",
        "NUM_CLASSES = 3  #Adjust based on your classes\n",
        "EPOCHS = 20\n",
        "BATCH_SIZE = 32\n",
        "MODEL_TYPE = 'transfer_learning'  #'cnn' or 'transfer_learning'"
      ],
      "metadata": {
        "id": "8k_RSVaAF7cu"
      },
      "execution_count": 21,
      "outputs": []
    },
    {
      "cell_type": "code",
      "source": [
        "#@title Load Dataset\n",
        "print(\"\\n[1/7] Loading dataset...\")\n",
        "images = []\n",
        "labels = []\n",
        "\n",
        "print(f\"Checking DATA_PATH: {DATA_PATH}\")\n",
        "print(f\"Does DATA_PATH exist? {os.path.exists(DATA_PATH)}\")\n",
        "\n",
        "# Get class names by listing subdirectories in the data path\n",
        "class_names = sorted([d for d in os.listdir(DATA_PATH) if os.path.isdir(os.path.join(DATA_PATH, d))])\n",
        "\n",
        "for class_idx, class_name in enumerate(class_names):\n",
        "    class_path = os.path.join(DATA_PATH, class_name)\n",
        "    if not os.path.isdir(class_path):\n",
        "        continue\n",
        "\n",
        "    print(f\"Loading {class_name}...\")\n",
        "    for img_name in os.listdir(class_path):\n",
        "        img_path = os.path.join(class_path, img_name)\n",
        "        if os.path.isfile(img_path):  # Added check to process only files\n",
        "            try:\n",
        "                from PIL import Image\n",
        "                img = Image.open(img_path).convert('RGB')\n",
        "                img = img.resize(IMG_SIZE)\n",
        "                images.append(np.array(img)) # Convert PIL image to numpy array\n",
        "                labels.append(class_idx)\n",
        "            except Exception as e:\n",
        "                print(f\"Error loading {img_path}: {e}\")\n",
        "\n",
        "X = np.array(images)\n",
        "y = np.array(labels)\n",
        "print(f\"✓ Loaded {len(X)} images across {len(class_names)} classes: {class_names}\")"
      ],
      "metadata": {
        "colab": {
          "base_uri": "https://localhost:8080/"
        },
        "id": "trEyPfDyImUE",
        "outputId": "5e853b7a-c650-48a6-a0cd-f6d8e64506c4"
      },
      "execution_count": 22,
      "outputs": [
        {
          "output_type": "stream",
          "name": "stdout",
          "text": [
            "\n",
            "[1/7] Loading dataset...\n",
            "Checking DATA_PATH: /content/Spodopera_DL_dataset\n",
            "Does DATA_PATH exist? True\n",
            "Loading .git...\n",
            "Error loading /content/Spodopera_DL_dataset/.git/HEAD: cannot identify image file '/content/Spodopera_DL_dataset/.git/HEAD'\n",
            "Error loading /content/Spodopera_DL_dataset/.git/description: cannot identify image file '/content/Spodopera_DL_dataset/.git/description'\n",
            "Error loading /content/Spodopera_DL_dataset/.git/config: cannot identify image file '/content/Spodopera_DL_dataset/.git/config'\n",
            "Error loading /content/Spodopera_DL_dataset/.git/packed-refs: cannot identify image file '/content/Spodopera_DL_dataset/.git/packed-refs'\n",
            "Error loading /content/Spodopera_DL_dataset/.git/index: cannot identify image file '/content/Spodopera_DL_dataset/.git/index'\n",
            "Loading all...\n",
            "Error loading /content/Spodopera_DL_dataset/all/WhatsApp Image 2018-10-26 at 10.53.20 AM.xml: cannot identify image file '/content/Spodopera_DL_dataset/all/WhatsApp Image 2018-10-26 at 10.53.20 AM.xml'\n",
            "Error loading /content/Spodopera_DL_dataset/all/WhatsApp Image 2018-10-25 at 11.54.52 PM.xml: cannot identify image file '/content/Spodopera_DL_dataset/all/WhatsApp Image 2018-10-25 at 11.54.52 PM.xml'\n",
            "Error loading /content/Spodopera_DL_dataset/all/WhatsApp Image 2018-11-08 at 7.38.01 PM.xml: cannot identify image file '/content/Spodopera_DL_dataset/all/WhatsApp Image 2018-11-08 at 7.38.01 PM.xml'\n",
            "Error loading /content/Spodopera_DL_dataset/all/WhatsApp Image 2018-10-28 at 2.49.51 PM.xml: cannot identify image file '/content/Spodopera_DL_dataset/all/WhatsApp Image 2018-10-28 at 2.49.51 PM.xml'\n",
            "Error loading /content/Spodopera_DL_dataset/all/WhatsApp Image 2018-10-28 at 2.48.06 PM.xml: cannot identify image file '/content/Spodopera_DL_dataset/all/WhatsApp Image 2018-10-28 at 2.48.06 PM.xml'\n",
            "Error loading /content/Spodopera_DL_dataset/all/WhatsApp Image 2018-10-26 at 10.52.58 AM.xml: cannot identify image file '/content/Spodopera_DL_dataset/all/WhatsApp Image 2018-10-26 at 10.52.58 AM.xml'\n",
            "Error loading /content/Spodopera_DL_dataset/all/WhatsApp Image 2018-10-26 at 10.24.22 AM.xml: cannot identify image file '/content/Spodopera_DL_dataset/all/WhatsApp Image 2018-10-26 at 10.24.22 AM.xml'\n",
            "Error loading /content/Spodopera_DL_dataset/all/WhatsApp Image 2018-10-28 at 1.37.24 PM.xml: cannot identify image file '/content/Spodopera_DL_dataset/all/WhatsApp Image 2018-10-28 at 1.37.24 PM.xml'\n",
            "Error loading /content/Spodopera_DL_dataset/all/WhatsApp Image 2018-10-28 at 1.37.21 PM.xml: cannot identify image file '/content/Spodopera_DL_dataset/all/WhatsApp Image 2018-10-28 at 1.37.21 PM.xml'\n",
            "Error loading /content/Spodopera_DL_dataset/all/WhatsApp Image 2018-10-26 at 8.39.21 AM.xml: cannot identify image file '/content/Spodopera_DL_dataset/all/WhatsApp Image 2018-10-26 at 8.39.21 AM.xml'\n",
            "Error loading /content/Spodopera_DL_dataset/all/WhatsApp Image 2018-10-28 at 2.49.44 PM.xml: cannot identify image file '/content/Spodopera_DL_dataset/all/WhatsApp Image 2018-10-28 at 2.49.44 PM.xml'\n",
            "Error loading /content/Spodopera_DL_dataset/all/WhatsApp Image 2018-10-28 at 2.47.13 PM.xml: cannot identify image file '/content/Spodopera_DL_dataset/all/WhatsApp Image 2018-10-28 at 2.47.13 PM.xml'\n",
            "Error loading /content/Spodopera_DL_dataset/all/WhatsApp Image 2018-10-28 at 2.48.13 PM.xml: cannot identify image file '/content/Spodopera_DL_dataset/all/WhatsApp Image 2018-10-28 at 2.48.13 PM.xml'\n",
            "Error loading /content/Spodopera_DL_dataset/all/WhatsApp Image 2018-10-28 at 2.49.41 PM.xml: cannot identify image file '/content/Spodopera_DL_dataset/all/WhatsApp Image 2018-10-28 at 2.49.41 PM.xml'\n",
            "Error loading /content/Spodopera_DL_dataset/all/WhatsApp Image 2018-10-26 at 10.52.20 AM.xml: cannot identify image file '/content/Spodopera_DL_dataset/all/WhatsApp Image 2018-10-26 at 10.52.20 AM.xml'\n",
            "Error loading /content/Spodopera_DL_dataset/all/WhatsApp Image 2018-10-26 at 12.03.53 AM.xml: cannot identify image file '/content/Spodopera_DL_dataset/all/WhatsApp Image 2018-10-26 at 12.03.53 AM.xml'\n",
            "Error loading /content/Spodopera_DL_dataset/all/WhatsApp Image 2018-10-28 at 1.37.30 PM.xml: cannot identify image file '/content/Spodopera_DL_dataset/all/WhatsApp Image 2018-10-28 at 1.37.30 PM.xml'\n",
            "Error loading /content/Spodopera_DL_dataset/all/WhatsApp Image 2018-10-28 at 2.45.52 PM.xml: cannot identify image file '/content/Spodopera_DL_dataset/all/WhatsApp Image 2018-10-28 at 2.45.52 PM.xml'\n",
            "Error loading /content/Spodopera_DL_dataset/all/WhatsApp Image 2018-10-26 at 12.00.29 AM.xml: cannot identify image file '/content/Spodopera_DL_dataset/all/WhatsApp Image 2018-10-26 at 12.00.29 AM.xml'\n",
            "Error loading /content/Spodopera_DL_dataset/all/WhatsApp Image 2018-10-28 at 1.37.15 PM.xml: cannot identify image file '/content/Spodopera_DL_dataset/all/WhatsApp Image 2018-10-28 at 1.37.15 PM.xml'\n",
            "Error loading /content/Spodopera_DL_dataset/all/WhatsApp Image 2018-11-08 at 7.18.19 PM.xml: cannot identify image file '/content/Spodopera_DL_dataset/all/WhatsApp Image 2018-11-08 at 7.18.19 PM.xml'\n",
            "Error loading /content/Spodopera_DL_dataset/all/WhatsApp Image 2018-10-28 at 2.47.55 PM.xml: cannot identify image file '/content/Spodopera_DL_dataset/all/WhatsApp Image 2018-10-28 at 2.47.55 PM.xml'\n",
            "Error loading /content/Spodopera_DL_dataset/all/WhatsApp Image 2018-10-28 at 2.50.11 PM.xml: cannot identify image file '/content/Spodopera_DL_dataset/all/WhatsApp Image 2018-10-28 at 2.50.11 PM.xml'\n",
            "Error loading /content/Spodopera_DL_dataset/all/WhatsApp Image 2018-11-08 at 7.26.25 PM.xml: cannot identify image file '/content/Spodopera_DL_dataset/all/WhatsApp Image 2018-11-08 at 7.26.25 PM.xml'\n",
            "Error loading /content/Spodopera_DL_dataset/all/WhatsApp Image 2018-10-28 at 2.48.20 PM.xml: cannot identify image file '/content/Spodopera_DL_dataset/all/WhatsApp Image 2018-10-28 at 2.48.20 PM.xml'\n",
            "Error loading /content/Spodopera_DL_dataset/all/WhatsApp Image 2018-10-28 at 2.45.59 PM.xml: cannot identify image file '/content/Spodopera_DL_dataset/all/WhatsApp Image 2018-10-28 at 2.45.59 PM.xml'\n",
            "Error loading /content/Spodopera_DL_dataset/all/WhatsApp Image 2018-10-28 at 2.47.11 PM.xml: cannot identify image file '/content/Spodopera_DL_dataset/all/WhatsApp Image 2018-10-28 at 2.47.11 PM.xml'\n",
            "Error loading /content/Spodopera_DL_dataset/all/WhatsApp Image 2018-10-28 at 2.50.07 PM.xml: cannot identify image file '/content/Spodopera_DL_dataset/all/WhatsApp Image 2018-10-28 at 2.50.07 PM.xml'\n",
            "Error loading /content/Spodopera_DL_dataset/all/WhatsApp Image 2018-11-08 at 6.34.17 PM.xml: cannot identify image file '/content/Spodopera_DL_dataset/all/WhatsApp Image 2018-11-08 at 6.34.17 PM.xml'\n",
            "Error loading /content/Spodopera_DL_dataset/all/WhatsApp Image 2018-10-25 at 11.55.00 PM.xml: cannot identify image file '/content/Spodopera_DL_dataset/all/WhatsApp Image 2018-10-25 at 11.55.00 PM.xml'\n",
            "Error loading /content/Spodopera_DL_dataset/all/WhatsApp Image 2018-11-08 at 6.44.25 PM.xml: cannot identify image file '/content/Spodopera_DL_dataset/all/WhatsApp Image 2018-11-08 at 6.44.25 PM.xml'\n",
            "Error loading /content/Spodopera_DL_dataset/all/WhatsApp Image 2018-10-28 at 1.37.26 PM.xml: cannot identify image file '/content/Spodopera_DL_dataset/all/WhatsApp Image 2018-10-28 at 1.37.26 PM.xml'\n",
            "Error loading /content/Spodopera_DL_dataset/all/WhatsApp Image 2018-11-08 at 7.38.40 PM.xml: cannot identify image file '/content/Spodopera_DL_dataset/all/WhatsApp Image 2018-11-08 at 7.38.40 PM.xml'\n",
            "Error loading /content/Spodopera_DL_dataset/all/WhatsApp Image 2018-10-28 at 2.46.02 PM.xml: cannot identify image file '/content/Spodopera_DL_dataset/all/WhatsApp Image 2018-10-28 at 2.46.02 PM.xml'\n",
            "Error loading /content/Spodopera_DL_dataset/all/WhatsApp Image 2018-10-26 at 10.39.44 AM.xml: cannot identify image file '/content/Spodopera_DL_dataset/all/WhatsApp Image 2018-10-26 at 10.39.44 AM.xml'\n",
            "Error loading /content/Spodopera_DL_dataset/all/WhatsApp Image 2018-11-08 at 7.39.15 PM.xml: cannot identify image file '/content/Spodopera_DL_dataset/all/WhatsApp Image 2018-11-08 at 7.39.15 PM.xml'\n",
            "Error loading /content/Spodopera_DL_dataset/all/WhatsApp Image 2018-10-26 at 10.52.54 AM.xml: cannot identify image file '/content/Spodopera_DL_dataset/all/WhatsApp Image 2018-10-26 at 10.52.54 AM.xml'\n",
            "Error loading /content/Spodopera_DL_dataset/all/WhatsApp Image 2018-10-28 at 2.48.03 PM.xml: cannot identify image file '/content/Spodopera_DL_dataset/all/WhatsApp Image 2018-10-28 at 2.48.03 PM.xml'\n",
            "Error loading /content/Spodopera_DL_dataset/all/WhatsApp Image 2018-10-28 at 2.45.57 PM.xml: cannot identify image file '/content/Spodopera_DL_dataset/all/WhatsApp Image 2018-10-28 at 2.45.57 PM.xml'\n",
            "Error loading /content/Spodopera_DL_dataset/all/WhatsApp Image 2018-10-28 at 2.48.25 PM.xml: cannot identify image file '/content/Spodopera_DL_dataset/all/WhatsApp Image 2018-10-28 at 2.48.25 PM.xml'\n",
            "Error loading /content/Spodopera_DL_dataset/all/WhatsApp Image 2018-10-28 at 1.37.27 PM.xml: cannot identify image file '/content/Spodopera_DL_dataset/all/WhatsApp Image 2018-10-28 at 1.37.27 PM.xml'\n",
            "Error loading /content/Spodopera_DL_dataset/all/WhatsApp Image 2018-10-26 at 10.53.12 AM.xml: cannot identify image file '/content/Spodopera_DL_dataset/all/WhatsApp Image 2018-10-26 at 10.53.12 AM.xml'\n",
            "Error loading /content/Spodopera_DL_dataset/all/WhatsApp Image 2018-10-26 at 10.06.32 AM.xml: cannot identify image file '/content/Spodopera_DL_dataset/all/WhatsApp Image 2018-10-26 at 10.06.32 AM.xml'\n",
            "Error loading /content/Spodopera_DL_dataset/all/WhatsApp Image 2018-11-08 at 6.48.51 PM.xml: cannot identify image file '/content/Spodopera_DL_dataset/all/WhatsApp Image 2018-11-08 at 6.48.51 PM.xml'\n",
            "Error loading /content/Spodopera_DL_dataset/all/WhatsApp Image 2018-11-08 at 6.48.25 PM.xml: cannot identify image file '/content/Spodopera_DL_dataset/all/WhatsApp Image 2018-11-08 at 6.48.25 PM.xml'\n",
            "Error loading /content/Spodopera_DL_dataset/all/WhatsApp Image 2018-11-08 at 6.56.06 PM.xml: cannot identify image file '/content/Spodopera_DL_dataset/all/WhatsApp Image 2018-11-08 at 6.56.06 PM.xml'\n",
            "Error loading /content/Spodopera_DL_dataset/all/WhatsApp Image 2018-10-28 at 2.46.06 PM.xml: cannot identify image file '/content/Spodopera_DL_dataset/all/WhatsApp Image 2018-10-28 at 2.46.06 PM.xml'\n",
            "Error loading /content/Spodopera_DL_dataset/all/WhatsApp Image 2018-10-28 at 2.48.12 PM.xml: cannot identify image file '/content/Spodopera_DL_dataset/all/WhatsApp Image 2018-10-28 at 2.48.12 PM.xml'\n",
            "Error loading /content/Spodopera_DL_dataset/all/WhatsApp Image 2018-11-08 at 6.49.16 PM.xml: cannot identify image file '/content/Spodopera_DL_dataset/all/WhatsApp Image 2018-11-08 at 6.49.16 PM.xml'\n",
            "Error loading /content/Spodopera_DL_dataset/all/WhatsApp Image 2018-10-26 at 10.53.32 AM.xml: cannot identify image file '/content/Spodopera_DL_dataset/all/WhatsApp Image 2018-10-26 at 10.53.32 AM.xml'\n",
            "Error loading /content/Spodopera_DL_dataset/all/WhatsApp Image 2018-10-28 at 2.45.55 PM.xml: cannot identify image file '/content/Spodopera_DL_dataset/all/WhatsApp Image 2018-10-28 at 2.45.55 PM.xml'\n",
            "Error loading /content/Spodopera_DL_dataset/all/WhatsApp Image 2018-10-26 at 9.54.41 AM.xml: cannot identify image file '/content/Spodopera_DL_dataset/all/WhatsApp Image 2018-10-26 at 9.54.41 AM.xml'\n",
            "Error loading /content/Spodopera_DL_dataset/all/WhatsApp Image 2018-10-28 at 2.50.15 PM.xml: cannot identify image file '/content/Spodopera_DL_dataset/all/WhatsApp Image 2018-10-28 at 2.50.15 PM.xml'\n",
            "Error loading /content/Spodopera_DL_dataset/all/WhatsApp Image 2018-10-28 at 2.45.36 PM (1).xml: cannot identify image file '/content/Spodopera_DL_dataset/all/WhatsApp Image 2018-10-28 at 2.45.36 PM (1).xml'\n",
            "Error loading /content/Spodopera_DL_dataset/all/WhatsApp Image 2018-10-28 at 2.46.01 PM (1).xml: cannot identify image file '/content/Spodopera_DL_dataset/all/WhatsApp Image 2018-10-28 at 2.46.01 PM (1).xml'\n",
            "Error loading /content/Spodopera_DL_dataset/all/WhatsApp Image 2018-11-08 at 7.37.53 PM.xml: cannot identify image file '/content/Spodopera_DL_dataset/all/WhatsApp Image 2018-11-08 at 7.37.53 PM.xml'\n",
            "Error loading /content/Spodopera_DL_dataset/all/WhatsApp Image 2018-10-28 at 1.37.33 PM.xml: cannot identify image file '/content/Spodopera_DL_dataset/all/WhatsApp Image 2018-10-28 at 1.37.33 PM.xml'\n",
            "Error loading /content/Spodopera_DL_dataset/all/WhatsApp Image 2018-10-28 at 2.49.48 PM.xml: cannot identify image file '/content/Spodopera_DL_dataset/all/WhatsApp Image 2018-10-28 at 2.49.48 PM.xml'\n",
            "Error loading /content/Spodopera_DL_dataset/all/WhatsApp Image 2018-10-26 at 10.52.48 AM.xml: cannot identify image file '/content/Spodopera_DL_dataset/all/WhatsApp Image 2018-10-26 at 10.52.48 AM.xml'\n",
            "Error loading /content/Spodopera_DL_dataset/all/WhatsApp Image 2018-10-26 at 10.53.21 AM.xml: cannot identify image file '/content/Spodopera_DL_dataset/all/WhatsApp Image 2018-10-26 at 10.53.21 AM.xml'\n",
            "Error loading /content/Spodopera_DL_dataset/all/WhatsApp Image 2018-10-26 at 12.06.32 AM.xml: cannot identify image file '/content/Spodopera_DL_dataset/all/WhatsApp Image 2018-10-26 at 12.06.32 AM.xml'\n",
            "Error loading /content/Spodopera_DL_dataset/all/WhatsApp Image 2018-10-26 at 12.04.21 AM.xml: cannot identify image file '/content/Spodopera_DL_dataset/all/WhatsApp Image 2018-10-26 at 12.04.21 AM.xml'\n",
            "Error loading /content/Spodopera_DL_dataset/all/WhatsApp Image 2018-11-08 at 7.43.20 PM.xml: cannot identify image file '/content/Spodopera_DL_dataset/all/WhatsApp Image 2018-11-08 at 7.43.20 PM.xml'\n",
            "Error loading /content/Spodopera_DL_dataset/all/WhatsApp Image 2018-10-28 at 2.49.47 PM.xml: cannot identify image file '/content/Spodopera_DL_dataset/all/WhatsApp Image 2018-10-28 at 2.49.47 PM.xml'\n",
            "Error loading /content/Spodopera_DL_dataset/all/WhatsApp Image 2018-10-28 at 2.49.37 PM.xml: cannot identify image file '/content/Spodopera_DL_dataset/all/WhatsApp Image 2018-10-28 at 2.49.37 PM.xml'\n",
            "Error loading /content/Spodopera_DL_dataset/all/WhatsApp Image 2018-10-26 at 10.53.02 AM.xml: cannot identify image file '/content/Spodopera_DL_dataset/all/WhatsApp Image 2018-10-26 at 10.53.02 AM.xml'\n",
            "Error loading /content/Spodopera_DL_dataset/all/WhatsApp Image 2018-10-28 at 2.48.00 PM.xml: cannot identify image file '/content/Spodopera_DL_dataset/all/WhatsApp Image 2018-10-28 at 2.48.00 PM.xml'\n",
            "Error loading /content/Spodopera_DL_dataset/all/WhatsApp Image 2018-10-28 at 2.47.14 PM.xml: cannot identify image file '/content/Spodopera_DL_dataset/all/WhatsApp Image 2018-10-28 at 2.47.14 PM.xml'\n",
            "Error loading /content/Spodopera_DL_dataset/all/WhatsApp Image 2018-10-28 at 2.48.17 PM.xml: cannot identify image file '/content/Spodopera_DL_dataset/all/WhatsApp Image 2018-10-28 at 2.48.17 PM.xml'\n",
            "Error loading /content/Spodopera_DL_dataset/all/WhatsApp Image 2018-10-26 at 10.11.00 AM.xml: cannot identify image file '/content/Spodopera_DL_dataset/all/WhatsApp Image 2018-10-26 at 10.11.00 AM.xml'\n",
            "Error loading /content/Spodopera_DL_dataset/all/WhatsApp Image 2018-10-28 at 2.47.47 PM.xml: cannot identify image file '/content/Spodopera_DL_dataset/all/WhatsApp Image 2018-10-28 at 2.47.47 PM.xml'\n",
            "Error loading /content/Spodopera_DL_dataset/all/WhatsApp Image 2018-10-26 at 10.32.16 AM.xml: cannot identify image file '/content/Spodopera_DL_dataset/all/WhatsApp Image 2018-10-26 at 10.32.16 AM.xml'\n",
            "Error loading /content/Spodopera_DL_dataset/all/WhatsApp Image 2018-10-26 at 11.03.10 AM.xml: cannot identify image file '/content/Spodopera_DL_dataset/all/WhatsApp Image 2018-10-26 at 11.03.10 AM.xml'\n",
            "Error loading /content/Spodopera_DL_dataset/all/WhatsApp Image 2018-10-26 at 10.53.00 AM.xml: cannot identify image file '/content/Spodopera_DL_dataset/all/WhatsApp Image 2018-10-26 at 10.53.00 AM.xml'\n",
            "Error loading /content/Spodopera_DL_dataset/all/WhatsApp Image 2018-10-28 at 2.48.18 PM.xml: cannot identify image file '/content/Spodopera_DL_dataset/all/WhatsApp Image 2018-10-28 at 2.48.18 PM.xml'\n",
            "Error loading /content/Spodopera_DL_dataset/all/WhatsApp Image 2018-11-08 at 7.38.16 PM.xml: cannot identify image file '/content/Spodopera_DL_dataset/all/WhatsApp Image 2018-11-08 at 7.38.16 PM.xml'\n",
            "Error loading /content/Spodopera_DL_dataset/all/WhatsApp Image 2018-10-28 at 2.26.11 PM.xml: cannot identify image file '/content/Spodopera_DL_dataset/all/WhatsApp Image 2018-10-28 at 2.26.11 PM.xml'\n",
            "Error loading /content/Spodopera_DL_dataset/all/WhatsApp Image 2018-10-26 at 12.00.09 AM.xml: cannot identify image file '/content/Spodopera_DL_dataset/all/WhatsApp Image 2018-10-26 at 12.00.09 AM.xml'\n",
            "Error loading /content/Spodopera_DL_dataset/all/WhatsApp Image 2018-11-08 at 6.32.50 PM.xml: cannot identify image file '/content/Spodopera_DL_dataset/all/WhatsApp Image 2018-11-08 at 6.32.50 PM.xml'\n",
            "Error loading /content/Spodopera_DL_dataset/all/WhatsApp Image 2018-10-26 at 10.52.46 AM.xml: cannot identify image file '/content/Spodopera_DL_dataset/all/WhatsApp Image 2018-10-26 at 10.52.46 AM.xml'\n",
            "Error loading /content/Spodopera_DL_dataset/all/WhatsApp Image 2018-10-28 at 2.50.22 PM.xml: cannot identify image file '/content/Spodopera_DL_dataset/all/WhatsApp Image 2018-10-28 at 2.50.22 PM.xml'\n",
            "Error loading /content/Spodopera_DL_dataset/all/WhatsApp Image 2018-10-26 at 10.53.01 AM.xml: cannot identify image file '/content/Spodopera_DL_dataset/all/WhatsApp Image 2018-10-26 at 10.53.01 AM.xml'\n",
            "Error loading /content/Spodopera_DL_dataset/all/WhatsApp Image 2018-10-28 at 2.49.46 PM (1).xml: cannot identify image file '/content/Spodopera_DL_dataset/all/WhatsApp Image 2018-10-28 at 2.49.46 PM (1).xml'\n",
            "Error loading /content/Spodopera_DL_dataset/all/WhatsApp Image 2018-10-28 at 2.47.18 PM.xml: cannot identify image file '/content/Spodopera_DL_dataset/all/WhatsApp Image 2018-10-28 at 2.47.18 PM.xml'\n",
            "Error loading /content/Spodopera_DL_dataset/all/WhatsApp Image 2018-10-28 at 2.49.40 PM.xml: cannot identify image file '/content/Spodopera_DL_dataset/all/WhatsApp Image 2018-10-28 at 2.49.40 PM.xml'\n",
            "Error loading /content/Spodopera_DL_dataset/all/WhatsApp Image 2018-10-28 at 2.48.15 PM (1).xml: cannot identify image file '/content/Spodopera_DL_dataset/all/WhatsApp Image 2018-10-28 at 2.48.15 PM (1).xml'\n",
            "Error loading /content/Spodopera_DL_dataset/all/WhatsApp Image 2018-10-28 at 2.48.11 PM.xml: cannot identify image file '/content/Spodopera_DL_dataset/all/WhatsApp Image 2018-10-28 at 2.48.11 PM.xml'\n",
            "Error loading /content/Spodopera_DL_dataset/all/WhatsApp Image 2018-11-08 at 7.17.51 PM.xml: cannot identify image file '/content/Spodopera_DL_dataset/all/WhatsApp Image 2018-11-08 at 7.17.51 PM.xml'\n",
            "Error loading /content/Spodopera_DL_dataset/all/WhatsApp Image 2018-10-28 at 2.48.16 PM (1).xml: cannot identify image file '/content/Spodopera_DL_dataset/all/WhatsApp Image 2018-10-28 at 2.48.16 PM (1).xml'\n",
            "Error loading /content/Spodopera_DL_dataset/all/WhatsApp Image 2018-11-08 at 7.40.42 PM.xml: cannot identify image file '/content/Spodopera_DL_dataset/all/WhatsApp Image 2018-11-08 at 7.40.42 PM.xml'\n",
            "Error loading /content/Spodopera_DL_dataset/all/WhatsApp Image 2018-10-28 at 2.45.47 PM.xml: cannot identify image file '/content/Spodopera_DL_dataset/all/WhatsApp Image 2018-10-28 at 2.45.47 PM.xml'\n",
            "Error loading /content/Spodopera_DL_dataset/all/WhatsApp Image 2018-10-28 at 2.49.39 PM.xml: cannot identify image file '/content/Spodopera_DL_dataset/all/WhatsApp Image 2018-10-28 at 2.49.39 PM.xml'\n",
            "Error loading /content/Spodopera_DL_dataset/all/WhatsApp Image 2018-10-28 at 1.37.33 PM (1).xml: cannot identify image file '/content/Spodopera_DL_dataset/all/WhatsApp Image 2018-10-28 at 1.37.33 PM (1).xml'\n",
            "Error loading /content/Spodopera_DL_dataset/all/WhatsApp Image 2018-10-28 at 2.46.55 PM.xml: cannot identify image file '/content/Spodopera_DL_dataset/all/WhatsApp Image 2018-10-28 at 2.46.55 PM.xml'\n",
            "Error loading /content/Spodopera_DL_dataset/all/WhatsApp Image 2018-10-28 at 2.48.05 PM.xml: cannot identify image file '/content/Spodopera_DL_dataset/all/WhatsApp Image 2018-10-28 at 2.48.05 PM.xml'\n",
            "Error loading /content/Spodopera_DL_dataset/all/WhatsApp Image 2018-10-28 at 2.49.42 PM.xml: cannot identify image file '/content/Spodopera_DL_dataset/all/WhatsApp Image 2018-10-28 at 2.49.42 PM.xml'\n",
            "Error loading /content/Spodopera_DL_dataset/all/WhatsApp Image 2018-10-26 at 10.52.56 AM.xml: cannot identify image file '/content/Spodopera_DL_dataset/all/WhatsApp Image 2018-10-26 at 10.52.56 AM.xml'\n",
            "Error loading /content/Spodopera_DL_dataset/all/WhatsApp Image 2018-10-28 at 2.49.48 PM (1).xml: cannot identify image file '/content/Spodopera_DL_dataset/all/WhatsApp Image 2018-10-28 at 2.49.48 PM (1).xml'\n",
            "Error loading /content/Spodopera_DL_dataset/all/WhatsApp Image 2018-10-28 at 2.49.46 PM.xml: cannot identify image file '/content/Spodopera_DL_dataset/all/WhatsApp Image 2018-10-28 at 2.49.46 PM.xml'\n",
            "Error loading /content/Spodopera_DL_dataset/all/WhatsApp Image 2018-10-26 at 10.13.04 AM.xml: cannot identify image file '/content/Spodopera_DL_dataset/all/WhatsApp Image 2018-10-26 at 10.13.04 AM.xml'\n",
            "Error loading /content/Spodopera_DL_dataset/all/WhatsApp Image 2018-10-26 at 9.48.42 AM.xml: cannot identify image file '/content/Spodopera_DL_dataset/all/WhatsApp Image 2018-10-26 at 9.48.42 AM.xml'\n",
            "Error loading /content/Spodopera_DL_dataset/all/WhatsApp Image 2018-11-08 at 6.57.07 PM.xml: cannot identify image file '/content/Spodopera_DL_dataset/all/WhatsApp Image 2018-11-08 at 6.57.07 PM.xml'\n",
            "Error loading /content/Spodopera_DL_dataset/all/WhatsApp Image 2018-10-28 at 2.49.32 PM.xml: cannot identify image file '/content/Spodopera_DL_dataset/all/WhatsApp Image 2018-10-28 at 2.49.32 PM.xml'\n",
            "Error loading /content/Spodopera_DL_dataset/all/WhatsApp Image 2018-10-28 at 2.49.52 PM.xml: cannot identify image file '/content/Spodopera_DL_dataset/all/WhatsApp Image 2018-10-28 at 2.49.52 PM.xml'\n",
            "Error loading /content/Spodopera_DL_dataset/all/WhatsApp Image 2018-10-26 at 10.52.49 AM.xml: cannot identify image file '/content/Spodopera_DL_dataset/all/WhatsApp Image 2018-10-26 at 10.52.49 AM.xml'\n",
            "Error loading /content/Spodopera_DL_dataset/all/WhatsApp Image 2018-11-08 at 6.56.36 PM.xml: cannot identify image file '/content/Spodopera_DL_dataset/all/WhatsApp Image 2018-11-08 at 6.56.36 PM.xml'\n",
            "Error loading /content/Spodopera_DL_dataset/all/WhatsApp Image 2018-10-28 at 2.45.59 PM (1).xml: cannot identify image file '/content/Spodopera_DL_dataset/all/WhatsApp Image 2018-10-28 at 2.45.59 PM (1).xml'\n",
            "Error loading /content/Spodopera_DL_dataset/all/WhatsApp Image 2018-10-26 at 10.03.20 AM.xml: cannot identify image file '/content/Spodopera_DL_dataset/all/WhatsApp Image 2018-10-26 at 10.03.20 AM.xml'\n",
            "Error loading /content/Spodopera_DL_dataset/all/WhatsApp Image 2018-11-08 at 6.44.11 PM.xml: cannot identify image file '/content/Spodopera_DL_dataset/all/WhatsApp Image 2018-11-08 at 6.44.11 PM.xml'\n",
            "Error loading /content/Spodopera_DL_dataset/all/WhatsApp Image 2018-11-08 at 7.37.47 PM.xml: cannot identify image file '/content/Spodopera_DL_dataset/all/WhatsApp Image 2018-11-08 at 7.37.47 PM.xml'\n",
            "Error loading /content/Spodopera_DL_dataset/all/WhatsApp Image 2018-10-28 at 2.46.00 PM.xml: cannot identify image file '/content/Spodopera_DL_dataset/all/WhatsApp Image 2018-10-28 at 2.46.00 PM.xml'\n",
            "Error loading /content/Spodopera_DL_dataset/all/WhatsApp Image 2018-10-28 at 2.47.27 PM.xml: cannot identify image file '/content/Spodopera_DL_dataset/all/WhatsApp Image 2018-10-28 at 2.47.27 PM.xml'\n",
            "Error loading /content/Spodopera_DL_dataset/all/WhatsApp Image 2018-10-28 at 2.50.06 PM (1).xml: cannot identify image file '/content/Spodopera_DL_dataset/all/WhatsApp Image 2018-10-28 at 2.50.06 PM (1).xml'\n",
            "Error loading /content/Spodopera_DL_dataset/all/WhatsApp Image 2018-11-08 at 6.41.44 PM.xml: cannot identify image file '/content/Spodopera_DL_dataset/all/WhatsApp Image 2018-11-08 at 6.41.44 PM.xml'\n",
            "Error loading /content/Spodopera_DL_dataset/all/WhatsApp Image 2018-10-28 at 2.45.36 PM.xml: cannot identify image file '/content/Spodopera_DL_dataset/all/WhatsApp Image 2018-10-28 at 2.45.36 PM.xml'\n",
            "Error loading /content/Spodopera_DL_dataset/all/WhatsApp Image 2018-10-28 at 2.49.52 PM (1).xml: cannot identify image file '/content/Spodopera_DL_dataset/all/WhatsApp Image 2018-10-28 at 2.49.52 PM (1).xml'\n",
            "Error loading /content/Spodopera_DL_dataset/all/WhatsApp Image 2018-11-08 at 6.33.31 PM.xml: cannot identify image file '/content/Spodopera_DL_dataset/all/WhatsApp Image 2018-11-08 at 6.33.31 PM.xml'\n",
            "Error loading /content/Spodopera_DL_dataset/all/WhatsApp Image 2018-10-28 at 2.48.15 PM.xml: cannot identify image file '/content/Spodopera_DL_dataset/all/WhatsApp Image 2018-10-28 at 2.48.15 PM.xml'\n",
            "Error loading /content/Spodopera_DL_dataset/all/WhatsApp Image 2018-10-26 at 9.54.51 AM.xml: cannot identify image file '/content/Spodopera_DL_dataset/all/WhatsApp Image 2018-10-26 at 9.54.51 AM.xml'\n",
            "Error loading /content/Spodopera_DL_dataset/all/WhatsApp Image 2018-10-26 at 10.53.04 AM.xml: cannot identify image file '/content/Spodopera_DL_dataset/all/WhatsApp Image 2018-10-26 at 10.53.04 AM.xml'\n",
            "Error loading /content/Spodopera_DL_dataset/all/WhatsApp Image 2018-10-28 at 2.48.08 PM.xml: cannot identify image file '/content/Spodopera_DL_dataset/all/WhatsApp Image 2018-10-28 at 2.48.08 PM.xml'\n",
            "Error loading /content/Spodopera_DL_dataset/all/WhatsApp Image 2018-10-28 at 2.46.31 PM.xml: cannot identify image file '/content/Spodopera_DL_dataset/all/WhatsApp Image 2018-10-28 at 2.46.31 PM.xml'\n",
            "Error loading /content/Spodopera_DL_dataset/all/WhatsApp Image 2018-11-08 at 6.34.35 PM.xml: cannot identify image file '/content/Spodopera_DL_dataset/all/WhatsApp Image 2018-11-08 at 6.34.35 PM.xml'\n",
            "Error loading /content/Spodopera_DL_dataset/all/WhatsApp Image 2018-11-08 at 6.37.09 PM.xml: cannot identify image file '/content/Spodopera_DL_dataset/all/WhatsApp Image 2018-11-08 at 6.37.09 PM.xml'\n",
            "Error loading /content/Spodopera_DL_dataset/all/WhatsApp Image 2018-11-08 at 7.44.57 PM.xml: cannot identify image file '/content/Spodopera_DL_dataset/all/WhatsApp Image 2018-11-08 at 7.44.57 PM.xml'\n",
            "Error loading /content/Spodopera_DL_dataset/all/WhatsApp Image 2018-10-28 at 2.48.23 PM.xml: cannot identify image file '/content/Spodopera_DL_dataset/all/WhatsApp Image 2018-10-28 at 2.48.23 PM.xml'\n",
            "Error loading /content/Spodopera_DL_dataset/all/WhatsApp Image 2018-10-28 at 2.48.10 PM.xml: cannot identify image file '/content/Spodopera_DL_dataset/all/WhatsApp Image 2018-10-28 at 2.48.10 PM.xml'\n",
            "Error loading /content/Spodopera_DL_dataset/all/WhatsApp Image 2018-11-08 at 7.43.52 PM.xml: cannot identify image file '/content/Spodopera_DL_dataset/all/WhatsApp Image 2018-11-08 at 7.43.52 PM.xml'\n",
            "Error loading /content/Spodopera_DL_dataset/all/WhatsApp Image 2018-11-08 at 6.56.21 PM.xml: cannot identify image file '/content/Spodopera_DL_dataset/all/WhatsApp Image 2018-11-08 at 6.56.21 PM.xml'\n",
            "Error loading /content/Spodopera_DL_dataset/all/WhatsApp Image 2018-10-26 at 10.52.52 AM.xml: cannot identify image file '/content/Spodopera_DL_dataset/all/WhatsApp Image 2018-10-26 at 10.52.52 AM.xml'\n",
            "Error loading /content/Spodopera_DL_dataset/all/WhatsApp Image 2018-10-28 at 2.46.33 PM.xml: cannot identify image file '/content/Spodopera_DL_dataset/all/WhatsApp Image 2018-10-28 at 2.46.33 PM.xml'\n",
            "Error loading /content/Spodopera_DL_dataset/all/WhatsApp Image 2018-10-26 at 11.03.08 AM.xml: cannot identify image file '/content/Spodopera_DL_dataset/all/WhatsApp Image 2018-10-26 at 11.03.08 AM.xml'\n",
            "Error loading /content/Spodopera_DL_dataset/all/WhatsApp Image 2018-10-28 at 2.50.01 PM.xml: cannot identify image file '/content/Spodopera_DL_dataset/all/WhatsApp Image 2018-10-28 at 2.50.01 PM.xml'\n",
            "Error loading /content/Spodopera_DL_dataset/all/WhatsApp Image 2018-10-26 at 9.55.37 AM.xml: cannot identify image file '/content/Spodopera_DL_dataset/all/WhatsApp Image 2018-10-26 at 9.55.37 AM.xml'\n",
            "Error loading /content/Spodopera_DL_dataset/all/WhatsApp Image 2018-11-08 at 6.41.16 PM.xml: cannot identify image file '/content/Spodopera_DL_dataset/all/WhatsApp Image 2018-11-08 at 6.41.16 PM.xml'\n",
            "Error loading /content/Spodopera_DL_dataset/all/WhatsApp Image 2018-10-28 at 2.48.16 PM.xml: cannot identify image file '/content/Spodopera_DL_dataset/all/WhatsApp Image 2018-10-28 at 2.48.16 PM.xml'\n",
            "Error loading /content/Spodopera_DL_dataset/all/WhatsApp Image 2018-10-28 at 2.45.35 PM.xml: cannot identify image file '/content/Spodopera_DL_dataset/all/WhatsApp Image 2018-10-28 at 2.45.35 PM.xml'\n",
            "Error loading /content/Spodopera_DL_dataset/all/WhatsApp Image 2018-10-28 at 2.48.10 PM (1).xml: cannot identify image file '/content/Spodopera_DL_dataset/all/WhatsApp Image 2018-10-28 at 2.48.10 PM (1).xml'\n",
            "Error loading /content/Spodopera_DL_dataset/all/WhatsApp Image 2018-10-26 at 12.04.06 AM.xml: cannot identify image file '/content/Spodopera_DL_dataset/all/WhatsApp Image 2018-10-26 at 12.04.06 AM.xml'\n",
            "Error loading /content/Spodopera_DL_dataset/all/WhatsApp Image 2018-11-08 at 6.34.01 PM.xml: cannot identify image file '/content/Spodopera_DL_dataset/all/WhatsApp Image 2018-11-08 at 6.34.01 PM.xml'\n",
            "Error loading /content/Spodopera_DL_dataset/all/WhatsApp Image 2018-10-28 at 2.49.50 PM.xml: cannot identify image file '/content/Spodopera_DL_dataset/all/WhatsApp Image 2018-10-28 at 2.49.50 PM.xml'\n",
            "Error loading /content/Spodopera_DL_dataset/all/WhatsApp Image 2018-11-08 at 6.44.57 PM.xml: cannot identify image file '/content/Spodopera_DL_dataset/all/WhatsApp Image 2018-11-08 at 6.44.57 PM.xml'\n",
            "Error loading /content/Spodopera_DL_dataset/all/WhatsApp Image 2018-10-26 at 10.03.43 AM.xml: cannot identify image file '/content/Spodopera_DL_dataset/all/WhatsApp Image 2018-10-26 at 10.03.43 AM.xml'\n",
            "Error loading /content/Spodopera_DL_dataset/all/WhatsApp Image 2018-10-28 at 2.45.37 PM.xml: cannot identify image file '/content/Spodopera_DL_dataset/all/WhatsApp Image 2018-10-28 at 2.45.37 PM.xml'\n",
            "Error loading /content/Spodopera_DL_dataset/all/WhatsApp Image 2018-10-28 at 2.50.06 PM.xml: cannot identify image file '/content/Spodopera_DL_dataset/all/WhatsApp Image 2018-10-28 at 2.50.06 PM.xml'\n",
            "Error loading /content/Spodopera_DL_dataset/all/WhatsApp Image 2018-11-08 at 7.44.56 PM (1).xml: cannot identify image file '/content/Spodopera_DL_dataset/all/WhatsApp Image 2018-11-08 at 7.44.56 PM (1).xml'\n",
            "Error loading /content/Spodopera_DL_dataset/all/WhatsApp Image 2018-10-28 at 2.46.01 PM.xml: cannot identify image file '/content/Spodopera_DL_dataset/all/WhatsApp Image 2018-10-28 at 2.46.01 PM.xml'\n",
            "Error loading /content/Spodopera_DL_dataset/all/WhatsApp Image 2018-10-28 at 2.46.29 PM.xml: cannot identify image file '/content/Spodopera_DL_dataset/all/WhatsApp Image 2018-10-28 at 2.46.29 PM.xml'\n",
            "Error loading /content/Spodopera_DL_dataset/all/WhatsApp Image 2018-10-28 at 2.45.58 PM.xml: cannot identify image file '/content/Spodopera_DL_dataset/all/WhatsApp Image 2018-10-28 at 2.45.58 PM.xml'\n",
            "Error loading /content/Spodopera_DL_dataset/all/WhatsApp Image 2018-10-28 at 2.47.15 PM.xml: cannot identify image file '/content/Spodopera_DL_dataset/all/WhatsApp Image 2018-10-28 at 2.47.15 PM.xml'\n",
            "Error loading /content/Spodopera_DL_dataset/all/WhatsApp Image 2018-10-26 at 10.24.36 AM.xml: cannot identify image file '/content/Spodopera_DL_dataset/all/WhatsApp Image 2018-10-26 at 10.24.36 AM.xml'\n",
            "Error loading /content/Spodopera_DL_dataset/all/WhatsApp Image 2018-10-26 at 10.26.51 AM.xml: cannot identify image file '/content/Spodopera_DL_dataset/all/WhatsApp Image 2018-10-26 at 10.26.51 AM.xml'\n",
            "Error loading /content/Spodopera_DL_dataset/all/WhatsApp Image 2018-10-26 at 10.53.10 AM.xml: cannot identify image file '/content/Spodopera_DL_dataset/all/WhatsApp Image 2018-10-26 at 10.53.10 AM.xml'\n",
            "Error loading /content/Spodopera_DL_dataset/all/WhatsApp Image 2018-10-28 at 2.45.56 PM.xml: cannot identify image file '/content/Spodopera_DL_dataset/all/WhatsApp Image 2018-10-28 at 2.45.56 PM.xml'\n",
            "Error loading /content/Spodopera_DL_dataset/all/WhatsApp Image 2018-10-26 at 10.15.05 AM.xml: cannot identify image file '/content/Spodopera_DL_dataset/all/WhatsApp Image 2018-10-26 at 10.15.05 AM.xml'\n",
            "Error loading /content/Spodopera_DL_dataset/all/WhatsApp Image 2018-10-28 at 2.49.38 PM.xml: cannot identify image file '/content/Spodopera_DL_dataset/all/WhatsApp Image 2018-10-28 at 2.49.38 PM.xml'\n",
            "Error loading /content/Spodopera_DL_dataset/all/WhatsApp Image 2018-11-08 at 6.40.09 PM.xml: cannot identify image file '/content/Spodopera_DL_dataset/all/WhatsApp Image 2018-11-08 at 6.40.09 PM.xml'\n",
            "Error loading /content/Spodopera_DL_dataset/all/WhatsApp Image 2018-11-08 at 7.17.34 PM.xml: cannot identify image file '/content/Spodopera_DL_dataset/all/WhatsApp Image 2018-11-08 at 7.17.34 PM.xml'\n",
            "Error loading /content/Spodopera_DL_dataset/all/WhatsApp Image 2018-10-26 at 10.35.28 AM.xml: cannot identify image file '/content/Spodopera_DL_dataset/all/WhatsApp Image 2018-10-26 at 10.35.28 AM.xml'\n",
            "Error loading /content/Spodopera_DL_dataset/all/WhatsApp Image 2018-10-26 at 9.41.35 AM.xml: cannot identify image file '/content/Spodopera_DL_dataset/all/WhatsApp Image 2018-10-26 at 9.41.35 AM.xml'\n",
            "Error loading /content/Spodopera_DL_dataset/all/WhatsApp Image 2018-10-28 at 2.49.43 PM.xml: cannot identify image file '/content/Spodopera_DL_dataset/all/WhatsApp Image 2018-10-28 at 2.49.43 PM.xml'\n",
            "Error loading /content/Spodopera_DL_dataset/all/WhatsApp Image 2018-10-28 at 2.48.14 PM.xml: cannot identify image file '/content/Spodopera_DL_dataset/all/WhatsApp Image 2018-10-28 at 2.48.14 PM.xml'\n",
            "Error loading /content/Spodopera_DL_dataset/all/WhatsApp Image 2018-11-08 at 7.27.00 PM.xml: cannot identify image file '/content/Spodopera_DL_dataset/all/WhatsApp Image 2018-11-08 at 7.27.00 PM.xml'\n",
            "Error loading /content/Spodopera_DL_dataset/all/WhatsApp Image 2018-11-08 at 6.49.00 PM.xml: cannot identify image file '/content/Spodopera_DL_dataset/all/WhatsApp Image 2018-11-08 at 6.49.00 PM.xml'\n",
            "Error loading /content/Spodopera_DL_dataset/all/WhatsApp Image 2018-10-28 at 1.37.31 PM.xml: cannot identify image file '/content/Spodopera_DL_dataset/all/WhatsApp Image 2018-10-28 at 1.37.31 PM.xml'\n",
            "Error loading /content/Spodopera_DL_dataset/all/WhatsApp Image 2018-11-08 at 6.35.44 PM.xml: cannot identify image file '/content/Spodopera_DL_dataset/all/WhatsApp Image 2018-11-08 at 6.35.44 PM.xml'\n",
            "Error loading /content/Spodopera_DL_dataset/all/WhatsApp Image 2018-10-26 at 9.54.18 AM.xml: cannot identify image file '/content/Spodopera_DL_dataset/all/WhatsApp Image 2018-10-26 at 9.54.18 AM.xml'\n",
            "Error loading /content/Spodopera_DL_dataset/all/WhatsApp Image 2018-10-26 at 12.03.01 AM.xml: cannot identify image file '/content/Spodopera_DL_dataset/all/WhatsApp Image 2018-10-26 at 12.03.01 AM.xml'\n",
            "Error loading /content/Spodopera_DL_dataset/all/WhatsApp Image 2018-10-28 at 2.46.29 PM (1).xml: cannot identify image file '/content/Spodopera_DL_dataset/all/WhatsApp Image 2018-10-28 at 2.46.29 PM (1).xml'\n",
            "Error loading /content/Spodopera_DL_dataset/all/WhatsApp Image 2018-10-26 at 8.40.45 AM.xml: cannot identify image file '/content/Spodopera_DL_dataset/all/WhatsApp Image 2018-10-26 at 8.40.45 AM.xml'\n",
            "Error loading /content/Spodopera_DL_dataset/all/WhatsApp Image 2018-10-28 at 2.48.07 PM.xml: cannot identify image file '/content/Spodopera_DL_dataset/all/WhatsApp Image 2018-10-28 at 2.48.07 PM.xml'\n",
            "Error loading /content/Spodopera_DL_dataset/all/WhatsApp Image 2018-11-08 at 7.44.56 PM (2).xml: cannot identify image file '/content/Spodopera_DL_dataset/all/WhatsApp Image 2018-11-08 at 7.44.56 PM (2).xml'\n",
            "Error loading /content/Spodopera_DL_dataset/all/WhatsApp Image 2018-10-26 at 12.03.58 AM.xml: cannot identify image file '/content/Spodopera_DL_dataset/all/WhatsApp Image 2018-10-26 at 12.03.58 AM.xml'\n",
            "Error loading /content/Spodopera_DL_dataset/all/WhatsApp Image 2018-11-08 at 7.17.15 PM.xml: cannot identify image file '/content/Spodopera_DL_dataset/all/WhatsApp Image 2018-11-08 at 7.17.15 PM.xml'\n",
            "Error loading /content/Spodopera_DL_dataset/all/WhatsApp Image 2018-10-26 at 9.43.17 AM.xml: cannot identify image file '/content/Spodopera_DL_dataset/all/WhatsApp Image 2018-10-26 at 9.43.17 AM.xml'\n",
            "Error loading /content/Spodopera_DL_dataset/all/WhatsApp Image 2018-10-26 at 11.03.13 AM.xml: cannot identify image file '/content/Spodopera_DL_dataset/all/WhatsApp Image 2018-10-26 at 11.03.13 AM.xml'\n",
            "Error loading /content/Spodopera_DL_dataset/all/WhatsApp Image 2018-11-08 at 6.44.46 PM.xml: cannot identify image file '/content/Spodopera_DL_dataset/all/WhatsApp Image 2018-11-08 at 6.44.46 PM.xml'\n",
            "Error loading /content/Spodopera_DL_dataset/all/WhatsApp Image 2018-10-28 at 2.48.09 PM.xml: cannot identify image file '/content/Spodopera_DL_dataset/all/WhatsApp Image 2018-10-28 at 2.48.09 PM.xml'\n",
            "Error loading /content/Spodopera_DL_dataset/all/groundTruthTable.mat: cannot identify image file '/content/Spodopera_DL_dataset/all/groundTruthTable.mat'\n",
            "Error loading /content/Spodopera_DL_dataset/all/WhatsApp Image 2018-10-28 at 2.48.28 PM.xml: cannot identify image file '/content/Spodopera_DL_dataset/all/WhatsApp Image 2018-10-28 at 2.48.28 PM.xml'\n",
            "Error loading /content/Spodopera_DL_dataset/all/WhatsApp Image 2018-11-08 at 6.40.58 PM.xml: cannot identify image file '/content/Spodopera_DL_dataset/all/WhatsApp Image 2018-11-08 at 6.40.58 PM.xml'\n",
            "Loading armyWorm...\n",
            "✓ Loaded 1048 images across 3 classes: ['.git', 'all', 'armyWorm']\n"
          ]
        }
      ]
    },
    {
      "cell_type": "code",
      "source": [
        "#@title Preprocess Data\n",
        "print(\"\\n[2/7] Preprocessing data...\")"
      ],
      "metadata": {
        "id": "DseiNKRUQfjq",
        "outputId": "a86209ad-64cf-45fd-95c5-f2a948a08ffd",
        "colab": {
          "base_uri": "https://localhost:8080/"
        }
      },
      "execution_count": 26,
      "outputs": [
        {
          "output_type": "stream",
          "name": "stdout",
          "text": [
            "\n",
            "[2/7] Preprocessing data...\n"
          ]
        }
      ]
    },
    {
      "cell_type": "code",
      "source": [
        "#@title Split Data\n",
        "X_temp, X_test, y_temp, y_test = train_test_split(\n",
        "    X, y, test_size=0.2, random_state=42, stratify=y\n",
        ")\n",
        "\n",
        "X_train, X_val, y_train, y_val = train_test_split(\n",
        "    X_temp, y_temp, test_size=0.125, random_state=42, stratify=y_temp\n",
        ")\n"
      ],
      "metadata": {
        "id": "uLLGPspOQ76l"
      },
      "execution_count": 24,
      "outputs": []
    },
    {
      "cell_type": "code",
      "source": [
        "#@title Normalize Pixel Values\n",
        "X_train = X_train.astype('float32') / 255.0\n",
        "X_val = X_val.astype('float32') / 255.0\n",
        "X_test = X_test.astype('float32') / 255.0\n",
        "\n",
        "print(f\"✓ Train: {X_train.shape}, Val: {X_val.shape}, Test: {X_test.shape}\")\n"
      ],
      "metadata": {
        "id": "I0cJ7z3zRhqe",
        "outputId": "8c64e1bc-ccb1-49c5-ceae-c6bbb680d7c6",
        "colab": {
          "base_uri": "https://localhost:8080/"
        }
      },
      "execution_count": 27,
      "outputs": [
        {
          "output_type": "stream",
          "name": "stdout",
          "text": [
            "✓ Train: (733, 224, 224, 3), Val: (105, 224, 224, 3), Test: (210, 224, 224, 3)\n"
          ]
        }
      ]
    },
    {
      "cell_type": "code",
      "source": [
        "#@title Build Model\n",
        "print(f\"\\n[3/7] Building {MODEL_TYPE} model...\")\n",
        "\n",
        "if MODEL_TYPE == 'transfer_learning':\n",
        "    # Transfer Learning Model (MobileNetV2)\n",
        "    base_model = keras.applications.MobileNetV2(\n",
        "        input_shape=(*IMG_SIZE, 3),\n",
        "        include_top=False,\n",
        "        weights='imagenet'\n",
        "    )\n",
        "    base_model.trainable = False\n",
        "\n",
        "    model = keras.Sequential([\n",
        "        layers.RandomFlip(\"horizontal\"),\n",
        "        layers.RandomRotation(0.2),\n",
        "        layers.RandomZoom(0.2),\n",
        "        base_model,\n",
        "        layers.GlobalAveragePooling2D(),\n",
        "        layers.Dropout(0.5),\n",
        "        layers.Dense(128, activation='relu'),\n",
        "        layers.Dropout(0.3),\n",
        "        layers.Dense(NUM_CLASSES, activation='softmax')\n",
        "    ])\n",
        "else:\n",
        "    # Custom CNN Model\n",
        "    model = keras.Sequential([\n",
        "        layers.RandomFlip(\"horizontal\"),\n",
        "        layers.RandomRotation(0.2),\n",
        "        layers.RandomZoom(0.2),\n",
        "\n",
        "        layers.Conv2D(32, (3, 3), activation='relu', padding='same', input_shape=(*IMG_SIZE, 3)),\n",
        "        layers.BatchNormalization(),\n",
        "        layers.MaxPooling2D((2, 2)),\n",
        "\n",
        "        layers.Conv2D(64, (3, 3), activation='relu', padding='same'),\n",
        "        layers.BatchNormalization(),\n",
        "        layers.MaxPooling2D((2, 2)),\n",
        "\n",
        "        layers.Conv2D(128, (3, 3), activation='relu', padding='same'),\n",
        "        layers.BatchNormalization(),\n",
        "        layers.MaxPooling2D((2, 2)),\n",
        "\n",
        "        layers.Conv2D(256, (3, 3), activation='relu', padding='same'),\n",
        "        layers.BatchNormalization(),\n",
        "        layers.MaxPooling2D((2, 2)),\n",
        "\n",
        "        layers.Flatten(),\n",
        "        layers.Dropout(0.5),\n",
        "        layers.Dense(256, activation='relu'),\n",
        "        layers.BatchNormalization(),\n",
        "        layers.Dropout(0.3),\n",
        "        layers.Dense(NUM_CLASSES, activation='softmax')\n",
        "    ])\n",
        "\n",
        "model.summary()\n",
        "print(\"✓ Model built successfully\")\n",
        "\n"
      ],
      "metadata": {
        "id": "xt0iLQnLRzPk",
        "outputId": "44e2513e-0a72-4330-e38d-d069220ac43f",
        "colab": {
          "base_uri": "https://localhost:8080/",
          "height": 600
        }
      },
      "execution_count": 28,
      "outputs": [
        {
          "output_type": "stream",
          "name": "stdout",
          "text": [
            "\n",
            "[3/7] Building transfer_learning model...\n",
            "Downloading data from https://storage.googleapis.com/tensorflow/keras-applications/mobilenet_v2/mobilenet_v2_weights_tf_dim_ordering_tf_kernels_1.0_224_no_top.h5\n",
            "\u001b[1m9406464/9406464\u001b[0m \u001b[32m━━━━━━━━━━━━━━━━━━━━\u001b[0m\u001b[37m\u001b[0m \u001b[1m0s\u001b[0m 0us/step\n"
          ]
        },
        {
          "output_type": "display_data",
          "data": {
            "text/plain": [
              "\u001b[1mModel: \"sequential\"\u001b[0m\n"
            ],
            "text/html": [
              "<pre style=\"white-space:pre;overflow-x:auto;line-height:normal;font-family:Menlo,'DejaVu Sans Mono',consolas,'Courier New',monospace\"><span style=\"font-weight: bold\">Model: \"sequential\"</span>\n",
              "</pre>\n"
            ]
          },
          "metadata": {}
        },
        {
          "output_type": "display_data",
          "data": {
            "text/plain": [
              "┏━━━━━━━━━━━━━━━━━━━━━━━━━━━━━━━━━┳━━━━━━━━━━━━━━━━━━━━━━━━┳━━━━━━━━━━━━━━━┓\n",
              "┃\u001b[1m \u001b[0m\u001b[1mLayer (type)                   \u001b[0m\u001b[1m \u001b[0m┃\u001b[1m \u001b[0m\u001b[1mOutput Shape          \u001b[0m\u001b[1m \u001b[0m┃\u001b[1m \u001b[0m\u001b[1m      Param #\u001b[0m\u001b[1m \u001b[0m┃\n",
              "┡━━━━━━━━━━━━━━━━━━━━━━━━━━━━━━━━━╇━━━━━━━━━━━━━━━━━━━━━━━━╇━━━━━━━━━━━━━━━┩\n",
              "│ random_flip (\u001b[38;5;33mRandomFlip\u001b[0m)        │ ?                      │   \u001b[38;5;34m0\u001b[0m (unbuilt) │\n",
              "├─────────────────────────────────┼────────────────────────┼───────────────┤\n",
              "│ random_rotation                 │ ?                      │   \u001b[38;5;34m0\u001b[0m (unbuilt) │\n",
              "│ (\u001b[38;5;33mRandomRotation\u001b[0m)                │                        │               │\n",
              "├─────────────────────────────────┼────────────────────────┼───────────────┤\n",
              "│ random_zoom (\u001b[38;5;33mRandomZoom\u001b[0m)        │ ?                      │   \u001b[38;5;34m0\u001b[0m (unbuilt) │\n",
              "├─────────────────────────────────┼────────────────────────┼───────────────┤\n",
              "│ mobilenetv2_1.00_224            │ (\u001b[38;5;45mNone\u001b[0m, \u001b[38;5;34m7\u001b[0m, \u001b[38;5;34m7\u001b[0m, \u001b[38;5;34m1280\u001b[0m)     │     \u001b[38;5;34m2,257,984\u001b[0m │\n",
              "│ (\u001b[38;5;33mFunctional\u001b[0m)                    │                        │               │\n",
              "├─────────────────────────────────┼────────────────────────┼───────────────┤\n",
              "│ global_average_pooling2d        │ ?                      │             \u001b[38;5;34m0\u001b[0m │\n",
              "│ (\u001b[38;5;33mGlobalAveragePooling2D\u001b[0m)        │                        │               │\n",
              "├─────────────────────────────────┼────────────────────────┼───────────────┤\n",
              "│ dropout (\u001b[38;5;33mDropout\u001b[0m)               │ ?                      │             \u001b[38;5;34m0\u001b[0m │\n",
              "├─────────────────────────────────┼────────────────────────┼───────────────┤\n",
              "│ dense (\u001b[38;5;33mDense\u001b[0m)                   │ ?                      │   \u001b[38;5;34m0\u001b[0m (unbuilt) │\n",
              "├─────────────────────────────────┼────────────────────────┼───────────────┤\n",
              "│ dropout_1 (\u001b[38;5;33mDropout\u001b[0m)             │ ?                      │             \u001b[38;5;34m0\u001b[0m │\n",
              "├─────────────────────────────────┼────────────────────────┼───────────────┤\n",
              "│ dense_1 (\u001b[38;5;33mDense\u001b[0m)                 │ ?                      │   \u001b[38;5;34m0\u001b[0m (unbuilt) │\n",
              "└─────────────────────────────────┴────────────────────────┴───────────────┘\n"
            ],
            "text/html": [
              "<pre style=\"white-space:pre;overflow-x:auto;line-height:normal;font-family:Menlo,'DejaVu Sans Mono',consolas,'Courier New',monospace\">┏━━━━━━━━━━━━━━━━━━━━━━━━━━━━━━━━━┳━━━━━━━━━━━━━━━━━━━━━━━━┳━━━━━━━━━━━━━━━┓\n",
              "┃<span style=\"font-weight: bold\"> Layer (type)                    </span>┃<span style=\"font-weight: bold\"> Output Shape           </span>┃<span style=\"font-weight: bold\">       Param # </span>┃\n",
              "┡━━━━━━━━━━━━━━━━━━━━━━━━━━━━━━━━━╇━━━━━━━━━━━━━━━━━━━━━━━━╇━━━━━━━━━━━━━━━┩\n",
              "│ random_flip (<span style=\"color: #0087ff; text-decoration-color: #0087ff\">RandomFlip</span>)        │ ?                      │   <span style=\"color: #00af00; text-decoration-color: #00af00\">0</span> (unbuilt) │\n",
              "├─────────────────────────────────┼────────────────────────┼───────────────┤\n",
              "│ random_rotation                 │ ?                      │   <span style=\"color: #00af00; text-decoration-color: #00af00\">0</span> (unbuilt) │\n",
              "│ (<span style=\"color: #0087ff; text-decoration-color: #0087ff\">RandomRotation</span>)                │                        │               │\n",
              "├─────────────────────────────────┼────────────────────────┼───────────────┤\n",
              "│ random_zoom (<span style=\"color: #0087ff; text-decoration-color: #0087ff\">RandomZoom</span>)        │ ?                      │   <span style=\"color: #00af00; text-decoration-color: #00af00\">0</span> (unbuilt) │\n",
              "├─────────────────────────────────┼────────────────────────┼───────────────┤\n",
              "│ mobilenetv2_1.00_224            │ (<span style=\"color: #00d7ff; text-decoration-color: #00d7ff\">None</span>, <span style=\"color: #00af00; text-decoration-color: #00af00\">7</span>, <span style=\"color: #00af00; text-decoration-color: #00af00\">7</span>, <span style=\"color: #00af00; text-decoration-color: #00af00\">1280</span>)     │     <span style=\"color: #00af00; text-decoration-color: #00af00\">2,257,984</span> │\n",
              "│ (<span style=\"color: #0087ff; text-decoration-color: #0087ff\">Functional</span>)                    │                        │               │\n",
              "├─────────────────────────────────┼────────────────────────┼───────────────┤\n",
              "│ global_average_pooling2d        │ ?                      │             <span style=\"color: #00af00; text-decoration-color: #00af00\">0</span> │\n",
              "│ (<span style=\"color: #0087ff; text-decoration-color: #0087ff\">GlobalAveragePooling2D</span>)        │                        │               │\n",
              "├─────────────────────────────────┼────────────────────────┼───────────────┤\n",
              "│ dropout (<span style=\"color: #0087ff; text-decoration-color: #0087ff\">Dropout</span>)               │ ?                      │             <span style=\"color: #00af00; text-decoration-color: #00af00\">0</span> │\n",
              "├─────────────────────────────────┼────────────────────────┼───────────────┤\n",
              "│ dense (<span style=\"color: #0087ff; text-decoration-color: #0087ff\">Dense</span>)                   │ ?                      │   <span style=\"color: #00af00; text-decoration-color: #00af00\">0</span> (unbuilt) │\n",
              "├─────────────────────────────────┼────────────────────────┼───────────────┤\n",
              "│ dropout_1 (<span style=\"color: #0087ff; text-decoration-color: #0087ff\">Dropout</span>)             │ ?                      │             <span style=\"color: #00af00; text-decoration-color: #00af00\">0</span> │\n",
              "├─────────────────────────────────┼────────────────────────┼───────────────┤\n",
              "│ dense_1 (<span style=\"color: #0087ff; text-decoration-color: #0087ff\">Dense</span>)                 │ ?                      │   <span style=\"color: #00af00; text-decoration-color: #00af00\">0</span> (unbuilt) │\n",
              "└─────────────────────────────────┴────────────────────────┴───────────────┘\n",
              "</pre>\n"
            ]
          },
          "metadata": {}
        },
        {
          "output_type": "display_data",
          "data": {
            "text/plain": [
              "\u001b[1m Total params: \u001b[0m\u001b[38;5;34m2,257,984\u001b[0m (8.61 MB)\n"
            ],
            "text/html": [
              "<pre style=\"white-space:pre;overflow-x:auto;line-height:normal;font-family:Menlo,'DejaVu Sans Mono',consolas,'Courier New',monospace\"><span style=\"font-weight: bold\"> Total params: </span><span style=\"color: #00af00; text-decoration-color: #00af00\">2,257,984</span> (8.61 MB)\n",
              "</pre>\n"
            ]
          },
          "metadata": {}
        },
        {
          "output_type": "display_data",
          "data": {
            "text/plain": [
              "\u001b[1m Trainable params: \u001b[0m\u001b[38;5;34m0\u001b[0m (0.00 B)\n"
            ],
            "text/html": [
              "<pre style=\"white-space:pre;overflow-x:auto;line-height:normal;font-family:Menlo,'DejaVu Sans Mono',consolas,'Courier New',monospace\"><span style=\"font-weight: bold\"> Trainable params: </span><span style=\"color: #00af00; text-decoration-color: #00af00\">0</span> (0.00 B)\n",
              "</pre>\n"
            ]
          },
          "metadata": {}
        },
        {
          "output_type": "display_data",
          "data": {
            "text/plain": [
              "\u001b[1m Non-trainable params: \u001b[0m\u001b[38;5;34m2,257,984\u001b[0m (8.61 MB)\n"
            ],
            "text/html": [
              "<pre style=\"white-space:pre;overflow-x:auto;line-height:normal;font-family:Menlo,'DejaVu Sans Mono',consolas,'Courier New',monospace\"><span style=\"font-weight: bold\"> Non-trainable params: </span><span style=\"color: #00af00; text-decoration-color: #00af00\">2,257,984</span> (8.61 MB)\n",
              "</pre>\n"
            ]
          },
          "metadata": {}
        },
        {
          "output_type": "stream",
          "name": "stdout",
          "text": [
            "✓ Model built successfully\n"
          ]
        }
      ]
    },
    {
      "cell_type": "code",
      "source": [
        "#@title Compile & Train Model\n",
        "print(f\"\\n[4/7] Training model for {EPOCHS} epochs...\")\n",
        "\n",
        "model.compile(\n",
        "    optimizer=keras.optimizers.Adam(learning_rate=0.001),\n",
        "    loss='sparse_categorical_crossentropy',\n",
        "    metrics=['accuracy']\n",
        ")\n",
        "\n",
        "# Callbacks\n",
        "early_stopping = keras.callbacks.EarlyStopping(\n",
        "    monitor='val_loss',\n",
        "    patience=5,\n",
        "    restore_best_weights=True\n",
        ")\n",
        "\n",
        "reduce_lr = keras.callbacks.ReduceLROnPlateau(\n",
        "    monitor='val_loss',\n",
        "    factor=0.5,\n",
        "    patience=3,\n",
        "    min_lr=1e-7\n",
        ")\n",
        "\n",
        "# Train\n",
        "history = model.fit(\n",
        "    X_train, y_train,\n",
        "    validation_data=(X_val, y_val),\n",
        "    epochs=EPOCHS,\n",
        "    batch_size=BATCH_SIZE,\n",
        "    callbacks=[early_stopping, reduce_lr],\n",
        "    verbose=1\n",
        ")\n",
        "\n",
        "print(\"✓ Training complete\")\n",
        "\n"
      ],
      "metadata": {
        "id": "5YYs2YVGSY5e",
        "outputId": "63dd4d5e-2a28-408e-ce19-c7ada2bfac91",
        "colab": {
          "base_uri": "https://localhost:8080/"
        }
      },
      "execution_count": 29,
      "outputs": [
        {
          "output_type": "stream",
          "name": "stdout",
          "text": [
            "\n",
            "[4/7] Training model for 20 epochs...\n",
            "Epoch 1/20\n",
            "\u001b[1m23/23\u001b[0m \u001b[32m━━━━━━━━━━━━━━━━━━━━\u001b[0m\u001b[37m\u001b[0m \u001b[1m68s\u001b[0m 2s/step - accuracy: 0.8514 - loss: 0.3738 - val_accuracy: 0.9810 - val_loss: 0.0422 - learning_rate: 0.0010\n",
            "Epoch 2/20\n",
            "\u001b[1m23/23\u001b[0m \u001b[32m━━━━━━━━━━━━━━━━━━━━\u001b[0m\u001b[37m\u001b[0m \u001b[1m73s\u001b[0m 2s/step - accuracy: 0.9843 - loss: 0.0368 - val_accuracy: 0.9905 - val_loss: 0.0170 - learning_rate: 0.0010\n",
            "Epoch 3/20\n",
            "\u001b[1m23/23\u001b[0m \u001b[32m━━━━━━━━━━━━━━━━━━━━\u001b[0m\u001b[37m\u001b[0m \u001b[1m44s\u001b[0m 2s/step - accuracy: 0.9779 - loss: 0.0417 - val_accuracy: 0.9905 - val_loss: 0.0175 - learning_rate: 0.0010\n",
            "Epoch 4/20\n",
            "\u001b[1m23/23\u001b[0m \u001b[32m━━━━━━━━━━━━━━━━━━━━\u001b[0m\u001b[37m\u001b[0m \u001b[1m55s\u001b[0m 2s/step - accuracy: 0.9930 - loss: 0.0157 - val_accuracy: 0.9905 - val_loss: 0.0149 - learning_rate: 0.0010\n",
            "Epoch 5/20\n",
            "\u001b[1m23/23\u001b[0m \u001b[32m━━━━━━━━━━━━━━━━━━━━\u001b[0m\u001b[37m\u001b[0m \u001b[1m46s\u001b[0m 2s/step - accuracy: 0.9902 - loss: 0.0395 - val_accuracy: 0.9905 - val_loss: 0.0165 - learning_rate: 0.0010\n",
            "Epoch 6/20\n",
            "\u001b[1m23/23\u001b[0m \u001b[32m━━━━━━━━━━━━━━━━━━━━\u001b[0m\u001b[37m\u001b[0m \u001b[1m81s\u001b[0m 2s/step - accuracy: 0.9972 - loss: 0.0118 - val_accuracy: 0.9905 - val_loss: 0.0114 - learning_rate: 0.0010\n",
            "Epoch 7/20\n",
            "\u001b[1m23/23\u001b[0m \u001b[32m━━━━━━━━━━━━━━━━━━━━\u001b[0m\u001b[37m\u001b[0m \u001b[1m46s\u001b[0m 2s/step - accuracy: 0.9905 - loss: 0.0322 - val_accuracy: 0.9905 - val_loss: 0.0144 - learning_rate: 0.0010\n",
            "Epoch 8/20\n",
            "\u001b[1m23/23\u001b[0m \u001b[32m━━━━━━━━━━━━━━━━━━━━\u001b[0m\u001b[37m\u001b[0m \u001b[1m45s\u001b[0m 2s/step - accuracy: 0.9945 - loss: 0.0171 - val_accuracy: 0.9905 - val_loss: 0.0248 - learning_rate: 0.0010\n",
            "Epoch 9/20\n",
            "\u001b[1m23/23\u001b[0m \u001b[32m━━━━━━━━━━━━━━━━━━━━\u001b[0m\u001b[37m\u001b[0m \u001b[1m51s\u001b[0m 2s/step - accuracy: 0.9970 - loss: 0.0077 - val_accuracy: 1.0000 - val_loss: 0.0046 - learning_rate: 0.0010\n",
            "Epoch 10/20\n",
            "\u001b[1m23/23\u001b[0m \u001b[32m━━━━━━━━━━━━━━━━━━━━\u001b[0m\u001b[37m\u001b[0m \u001b[1m75s\u001b[0m 2s/step - accuracy: 0.9926 - loss: 0.0244 - val_accuracy: 1.0000 - val_loss: 0.0020 - learning_rate: 0.0010\n",
            "Epoch 11/20\n",
            "\u001b[1m23/23\u001b[0m \u001b[32m━━━━━━━━━━━━━━━━━━━━\u001b[0m\u001b[37m\u001b[0m \u001b[1m44s\u001b[0m 2s/step - accuracy: 0.9869 - loss: 0.0341 - val_accuracy: 0.9905 - val_loss: 0.0145 - learning_rate: 0.0010\n",
            "Epoch 12/20\n",
            "\u001b[1m23/23\u001b[0m \u001b[32m━━━━━━━━━━━━━━━━━━━━\u001b[0m\u001b[37m\u001b[0m \u001b[1m84s\u001b[0m 2s/step - accuracy: 0.9951 - loss: 0.0125 - val_accuracy: 0.9905 - val_loss: 0.0153 - learning_rate: 0.0010\n",
            "Epoch 13/20\n",
            "\u001b[1m23/23\u001b[0m \u001b[32m━━━━━━━━━━━━━━━━━━━━\u001b[0m\u001b[37m\u001b[0m \u001b[1m46s\u001b[0m 2s/step - accuracy: 0.9944 - loss: 0.0105 - val_accuracy: 0.9905 - val_loss: 0.0118 - learning_rate: 0.0010\n",
            "Epoch 14/20\n",
            "\u001b[1m23/23\u001b[0m \u001b[32m━━━━━━━━━━━━━━━━━━━━\u001b[0m\u001b[37m\u001b[0m \u001b[1m47s\u001b[0m 2s/step - accuracy: 1.0000 - loss: 0.0031 - val_accuracy: 0.9905 - val_loss: 0.0083 - learning_rate: 5.0000e-04\n",
            "Epoch 15/20\n",
            "\u001b[1m23/23\u001b[0m \u001b[32m━━━━━━━━━━━━━━━━━━━━\u001b[0m\u001b[37m\u001b[0m \u001b[1m81s\u001b[0m 2s/step - accuracy: 0.9991 - loss: 0.0077 - val_accuracy: 0.9905 - val_loss: 0.0109 - learning_rate: 5.0000e-04\n",
            "✓ Training complete\n"
          ]
        }
      ]
    }
  ],
  "metadata": {
    "colab": {
      "name": "Welcome to Colab",
      "provenance": [],
      "include_colab_link": true
    },
    "kernelspec": {
      "display_name": "Python 3",
      "name": "python3"
    }
  },
  "nbformat": 4,
  "nbformat_minor": 0
}